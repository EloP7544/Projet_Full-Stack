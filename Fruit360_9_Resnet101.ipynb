{
 "cells": [
  {
   "cell_type": "code",
   "execution_count": 1,
   "metadata": {
    "executionInfo": {
     "elapsed": 2448,
     "status": "ok",
     "timestamp": 1619044424352,
     "user": {
      "displayName": "husky papa-loup",
      "photoUrl": "https://lh3.googleusercontent.com/a-/AOh14GhvjdBcxbEnNdygidgRKNN9CaQMiGVsS_Bt-s8rAA=s64",
      "userId": "10008406607256523389"
     },
     "user_tz": -120
    },
    "id": "cC3HPEse89x7"
   },
   "outputs": [],
   "source": [
    "\n",
    "import numpy as np \n",
    "import pandas as pd\n",
    "\n",
    "import cv2\n",
    "from tensorflow.keras.models import Sequential\n",
    "from tensorflow.keras.layers import Conv2D, MaxPooling2D, Activation, Dropout, Flatten, Dense\n",
    "from tensorflow.keras.preprocessing.image import load_img, img_to_array, array_to_img, ImageDataGenerator \n",
    "from PIL import Image \n",
    "from glob import glob\n",
    "import pprint\n",
    "\n",
    "\n",
    "\n",
    "import os\n",
    "import warnings\n",
    "warnings.filterwarnings(\"ignore\")\n",
    "import matplotlib.pyplot as plt\n",
    "import tensorflow as tf\n",
    "from tensorflow.keras.optimizers import Adam\n",
    "from tensorflow.keras.preprocessing.image import ImageDataGenerator, img_to_array, load_img\n",
    "from tensorflow.keras import layers\n",
    "from tensorflow.keras import Model\n",
    "\n",
    "from tensorflow.keras.applications.resnet import ResNet50, ResNet101\n",
    "from tensorflow.keras.applications.inception_v3 import InceptionV3\n",
    "from tensorflow.keras.callbacks import Callback\n",
    "from tensorflow.keras.optimizers import Adam, Nadam\n",
    "import pathlib\n",
    "from tensorflow.keras.applications.xception import preprocess_input\n",
    "from tensorflow.keras.applications.xception import decode_predictions"
   ]
  },
  {
   "cell_type": "markdown",
   "metadata": {
    "id": "oUZgDd6y8jnL"
   },
   "source": [
    "for dirname, _, filenames in os.walk('./datas/fruits-360/'):\n",
    "    for filename in filenames:\n",
    "        print(os.path.join(dirname, filename))"
   ]
  },
  {
   "cell_type": "code",
   "execution_count": 2,
   "metadata": {
    "executionInfo": {
     "elapsed": 2445,
     "status": "ok",
     "timestamp": 1619044424353,
     "user": {
      "displayName": "husky papa-loup",
      "photoUrl": "https://lh3.googleusercontent.com/a-/AOh14GhvjdBcxbEnNdygidgRKNN9CaQMiGVsS_Bt-s8rAA=s64",
      "userId": "10008406607256523389"
     },
     "user_tz": -120
    },
    "id": "ijx5ySnr8jnM"
   },
   "outputs": [],
   "source": [
    "#train_path = pathlib.Path('./datas/fruits-360/Training/')\n",
    "#test_path = pathlib.Path('./datas/fruits-360/Test/')\n",
    "\n",
    "train_path = pathlib.Path('../datas/fruits2/Training/')\n",
    "test_path = pathlib.Path('../datas/fruits2/Test/')\n",
    "\n",
    "#train_path = ('./drive/MyDrive/fruits-360-mini/train/')\n",
    "#test_path = ('./drive/MyDrive/fruits-360-mini/test/')"
   ]
  },
  {
   "cell_type": "code",
   "execution_count": 3,
   "metadata": {
    "executionInfo": {
     "elapsed": 2442,
     "status": "ok",
     "timestamp": 1619044424353,
     "user": {
      "displayName": "husky papa-loup",
      "photoUrl": "https://lh3.googleusercontent.com/a-/AOh14GhvjdBcxbEnNdygidgRKNN9CaQMiGVsS_Bt-s8rAA=s64",
      "userId": "10008406607256523389"
     },
     "user_tz": -120
    },
    "id": "Hq9Qyq7r8jnN"
   },
   "outputs": [],
   "source": [
    "subs_train_label = [x.split('/')[-1] for x in os.listdir(train_path)]\n",
    "subs_test_label = [x.split('/')[-1] for x in os.listdir(test_path)]\n",
    "#subs_train = [x[0] for x in os.walk(train_path)]\n",
    "#subs_test = [x[0] for x in os.walk(test_path)]\n"
   ]
  },
  {
   "cell_type": "code",
   "execution_count": 4,
   "metadata": {
    "colab": {
     "base_uri": "https://localhost:8080/"
    },
    "executionInfo": {
     "elapsed": 2440,
     "status": "ok",
     "timestamp": 1619044424354,
     "user": {
      "displayName": "husky papa-loup",
      "photoUrl": "https://lh3.googleusercontent.com/a-/AOh14GhvjdBcxbEnNdygidgRKNN9CaQMiGVsS_Bt-s8rAA=s64",
      "userId": "10008406607256523389"
     },
     "user_tz": -120
    },
    "id": "_iS9i4YB8jnN",
    "outputId": "e348ed2d-0bc9-4c9c-bfcb-af1e677eea26"
   },
   "outputs": [
    {
     "data": {
      "text/plain": [
       "['Quince',\n",
       " 'Watermelon',\n",
       " 'Tomato Heart',\n",
       " 'Walnut',\n",
       " 'Potato White',\n",
       " 'Tomato Maroon',\n",
       " 'Tomato Cherry Red',\n",
       " 'Tomato Yellow',\n",
       " 'Tomato not Ripened']"
      ]
     },
     "execution_count": 4,
     "metadata": {},
     "output_type": "execute_result"
    }
   ],
   "source": [
    "subs_test_label"
   ]
  },
  {
   "cell_type": "code",
   "execution_count": 5,
   "metadata": {
    "colab": {
     "base_uri": "https://localhost:8080/"
    },
    "executionInfo": {
     "elapsed": 2435,
     "status": "ok",
     "timestamp": 1619044424355,
     "user": {
      "displayName": "husky papa-loup",
      "photoUrl": "https://lh3.googleusercontent.com/a-/AOh14GhvjdBcxbEnNdygidgRKNN9CaQMiGVsS_Bt-s8rAA=s64",
      "userId": "10008406607256523389"
     },
     "user_tz": -120
    },
    "id": "3RW_Qng78jnP",
    "outputId": "3dd52ff7-43e1-4292-cebb-aa162d4c1f57"
   },
   "outputs": [
    {
     "name": "stdout",
     "output_type": "stream",
     "text": [
      "9\n",
      "9\n",
      "True\n"
     ]
    }
   ],
   "source": [
    "subs_train_labels = list(filter(None, subs_train_label))\n",
    "subs_test_labels = list(filter(None, subs_test_label))\n",
    "#subs_train_paths = list(filter(None, subs_train))[1:]\n",
    "#subs_test_paths = list(filter(None, subs_test))[1:]\n",
    "\n",
    "\n",
    "print(len(subs_train_labels))\n",
    "print(len(subs_test_labels))\n",
    "#print(len(subs_train_paths))\n",
    "#print(len(subs_test_paths))\n",
    "print(set(subs_train_label) == set(subs_test_label))"
   ]
  },
  {
   "cell_type": "code",
   "execution_count": 6,
   "metadata": {
    "executionInfo": {
     "elapsed": 2432,
     "status": "ok",
     "timestamp": 1619044424356,
     "user": {
      "displayName": "husky papa-loup",
      "photoUrl": "https://lh3.googleusercontent.com/a-/AOh14GhvjdBcxbEnNdygidgRKNN9CaQMiGVsS_Bt-s8rAA=s64",
      "userId": "10008406607256523389"
     },
     "user_tz": -120
    },
    "id": "AJxIh1JS8jnP"
   },
   "outputs": [],
   "source": [
    "labels = sorted(subs_train_labels)"
   ]
  },
  {
   "cell_type": "code",
   "execution_count": 7,
   "metadata": {
    "colab": {
     "base_uri": "https://localhost:8080/",
     "height": 35
    },
    "executionInfo": {
     "elapsed": 2427,
     "status": "ok",
     "timestamp": 1619044424356,
     "user": {
      "displayName": "husky papa-loup",
      "photoUrl": "https://lh3.googleusercontent.com/a-/AOh14GhvjdBcxbEnNdygidgRKNN9CaQMiGVsS_Bt-s8rAA=s64",
      "userId": "10008406607256523389"
     },
     "user_tz": -120
    },
    "id": "tf1KXLiC8jnQ",
    "outputId": "51a038d0-6b6a-436c-8aea-22937de44998"
   },
   "outputs": [
    {
     "data": {
      "text/plain": [
       "'Potato White'"
      ]
     },
     "execution_count": 7,
     "metadata": {},
     "output_type": "execute_result"
    }
   ],
   "source": [
    "labels[0]"
   ]
  },
  {
   "cell_type": "code",
   "execution_count": 8,
   "metadata": {
    "colab": {
     "base_uri": "https://localhost:8080/"
    },
    "executionInfo": {
     "elapsed": 2423,
     "status": "ok",
     "timestamp": 1619044424357,
     "user": {
      "displayName": "husky papa-loup",
      "photoUrl": "https://lh3.googleusercontent.com/a-/AOh14GhvjdBcxbEnNdygidgRKNN9CaQMiGVsS_Bt-s8rAA=s64",
      "userId": "10008406607256523389"
     },
     "user_tz": -120
    },
    "id": "5ih-otTl8jnQ",
    "outputId": "7f2ea3a4-782e-4fce-aea4-e47f10367240"
   },
   "outputs": [
    {
     "name": "stdout",
     "output_type": "stream",
     "text": [
      "[224, 224, 3]\n"
     ]
    }
   ],
   "source": [
    "#x = load_img(str(train_path) + '/' + labels[0] + \"/10_100.jpg\")\n",
    "#x = load_img(str(train_path) + '/' + labels[0] + \"/image_0.jpg\")\n",
    "x = load_img(str(train_path) + '/' + labels[0] + \"/18_100.jpg\")\n",
    "img_shape = img_to_array(x).shape\n",
    "img_shape = [224,224,3]\n",
    "print(img_shape)"
   ]
  },
  {
   "cell_type": "code",
   "execution_count": 9,
   "metadata": {
    "executionInfo": {
     "elapsed": 2419,
     "status": "ok",
     "timestamp": 1619044424358,
     "user": {
      "displayName": "husky papa-loup",
      "photoUrl": "https://lh3.googleusercontent.com/a-/AOh14GhvjdBcxbEnNdygidgRKNN9CaQMiGVsS_Bt-s8rAA=s64",
      "userId": "10008406607256523389"
     },
     "user_tz": -120
    },
    "id": "zuf8jcYb8jnR"
   },
   "outputs": [],
   "source": [
    "#fig = plt.figure(figsize =(15,8))\n",
    "#for i in range(25):\n",
    "#    ax = fig.add_subplot(5,5,i+1,xticks=[],yticks=[])\n",
    "#    plt.axis(\"off\")\n",
    "#    plt.title(labels[i])\n",
    "#    ax.imshow(load_img(str(train_path) + '/' + labels[i] +\"/10_100.jpg\"))"
   ]
  },
  {
   "cell_type": "code",
   "execution_count": 10,
   "metadata": {
    "executionInfo": {
     "elapsed": 5111,
     "status": "ok",
     "timestamp": 1619044427053,
     "user": {
      "displayName": "husky papa-loup",
      "photoUrl": "https://lh3.googleusercontent.com/a-/AOh14GhvjdBcxbEnNdygidgRKNN9CaQMiGVsS_Bt-s8rAA=s64",
      "userId": "10008406607256523389"
     },
     "user_tz": -120
    },
    "id": "bNn_CxTS8jnR"
   },
   "outputs": [],
   "source": [
    "pre_trained_model = ResNet101(input_shape = img_shape, \n",
    "                                include_top = False, # without FC\n",
    "                                weights = 'imagenet')"
   ]
  },
  {
   "cell_type": "code",
   "execution_count": 11,
   "metadata": {
    "executionInfo": {
     "elapsed": 5110,
     "status": "ok",
     "timestamp": 1619044427054,
     "user": {
      "displayName": "husky papa-loup",
      "photoUrl": "https://lh3.googleusercontent.com/a-/AOh14GhvjdBcxbEnNdygidgRKNN9CaQMiGVsS_Bt-s8rAA=s64",
      "userId": "10008406607256523389"
     },
     "user_tz": -120
    },
    "id": "XUlP6szo8jnS"
   },
   "outputs": [],
   "source": [
    "for layer in pre_trained_model.layers:\n",
    "    layer.trainable = False"
   ]
  },
  {
   "cell_type": "code",
   "execution_count": 12,
   "metadata": {
    "executionInfo": {
     "elapsed": 5108,
     "status": "ok",
     "timestamp": 1619044427055,
     "user": {
      "displayName": "husky papa-loup",
      "photoUrl": "https://lh3.googleusercontent.com/a-/AOh14GhvjdBcxbEnNdygidgRKNN9CaQMiGVsS_Bt-s8rAA=s64",
      "userId": "10008406607256523389"
     },
     "user_tz": -120
    },
    "id": "JLWcXrTd8jnS"
   },
   "outputs": [],
   "source": [
    "class myCallback(Callback):\n",
    "    def on_epoch_end(self, epoch, logs={}):\n",
    "        if(logs.get('accuracy')>0.99):\n",
    "            print(\"\\nReached 95% accuracy so cancelling training!\")\n",
    "            self.model.stop_training = True"
   ]
  },
  {
   "cell_type": "code",
   "execution_count": 13,
   "metadata": {
    "executionInfo": {
     "elapsed": 5106,
     "status": "ok",
     "timestamp": 1619044427056,
     "user": {
      "displayName": "husky papa-loup",
      "photoUrl": "https://lh3.googleusercontent.com/a-/AOh14GhvjdBcxbEnNdygidgRKNN9CaQMiGVsS_Bt-s8rAA=s64",
      "userId": "10008406607256523389"
     },
     "user_tz": -120
    },
    "id": "o4k_45Vn8jnT"
   },
   "outputs": [],
   "source": [
    "#tf.keras.backend.clear_session()\n",
    "\n",
    "\n",
    "\n",
    "# Prepare for FC connexion\n",
    "#model = Sequential([pre_trained_model, \n",
    "#            layers.GlobalAveragePooling2D(),\n",
    "#            layers.Dropout(rate=0.5),\n",
    "#            layers.Dense(1024),\n",
    "#            layers.Dropout(rate=0.5),\n",
    "#            layers.Dense(5),\n",
    "#            layers.Softmax()])\n",
    "\n",
    "model = Sequential([\n",
    "    pre_trained_model,\n",
    "    layers.Flatten(),\n",
    "    layers.Dense(1024, activation='relu'),\n",
    "    layers.Dropout(0.2),\n",
    "    layers.Dense(len(labels), activation=\"softmax\")\n",
    "])\n",
    "\n",
    "\n",
    "\n",
    "\n",
    "model.compile(optimizer = Adam(lr=0.001), \n",
    "              loss = tf.keras.losses.CategoricalCrossentropy(), \n",
    "              metrics = ['accuracy'])\n",
    "\n"
   ]
  },
  {
   "cell_type": "code",
   "execution_count": 14,
   "metadata": {
    "colab": {
     "base_uri": "https://localhost:8080/"
    },
    "executionInfo": {
     "elapsed": 5427,
     "status": "ok",
     "timestamp": 1619044427386,
     "user": {
      "displayName": "husky papa-loup",
      "photoUrl": "https://lh3.googleusercontent.com/a-/AOh14GhvjdBcxbEnNdygidgRKNN9CaQMiGVsS_Bt-s8rAA=s64",
      "userId": "10008406607256523389"
     },
     "user_tz": -120
    },
    "id": "3vWvlXG98jnT",
    "outputId": "0f94657b-e305-4469-f063-ccefda85eee3"
   },
   "outputs": [
    {
     "name": "stdout",
     "output_type": "stream",
     "text": [
      "Model: \"sequential\"\n",
      "_________________________________________________________________\n",
      "Layer (type)                 Output Shape              Param #   \n",
      "=================================================================\n",
      "resnet101 (Model)            (None, 7, 7, 2048)        42658176  \n",
      "_________________________________________________________________\n",
      "flatten (Flatten)            (None, 100352)            0         \n",
      "_________________________________________________________________\n",
      "dense (Dense)                (None, 1024)              102761472 \n",
      "_________________________________________________________________\n",
      "dropout (Dropout)            (None, 1024)              0         \n",
      "_________________________________________________________________\n",
      "dense_1 (Dense)              (None, 9)                 9225      \n",
      "=================================================================\n",
      "Total params: 145,428,873\n",
      "Trainable params: 102,770,697\n",
      "Non-trainable params: 42,658,176\n",
      "_________________________________________________________________\n"
     ]
    }
   ],
   "source": [
    "model.summary()"
   ]
  },
  {
   "cell_type": "code",
   "execution_count": 15,
   "metadata": {
    "colab": {
     "base_uri": "https://localhost:8080/"
    },
    "executionInfo": {
     "elapsed": 5423,
     "status": "ok",
     "timestamp": 1619044427387,
     "user": {
      "displayName": "husky papa-loup",
      "photoUrl": "https://lh3.googleusercontent.com/a-/AOh14GhvjdBcxbEnNdygidgRKNN9CaQMiGVsS_Bt-s8rAA=s64",
      "userId": "10008406607256523389"
     },
     "user_tz": -120
    },
    "id": "ZjkOuYTT8jnU",
    "outputId": "58c8bb8a-e827-4b7c-86ec-983df69e7e4d"
   },
   "outputs": [
    {
     "data": {
      "text/plain": [
       "[224, 224]"
      ]
     },
     "execution_count": 15,
     "metadata": {},
     "output_type": "execute_result"
    }
   ],
   "source": [
    "img_shape[:2]"
   ]
  },
  {
   "cell_type": "code",
   "execution_count": 16,
   "metadata": {
    "colab": {
     "base_uri": "https://localhost:8080/"
    },
    "executionInfo": {
     "elapsed": 5670,
     "status": "ok",
     "timestamp": 1619044427639,
     "user": {
      "displayName": "husky papa-loup",
      "photoUrl": "https://lh3.googleusercontent.com/a-/AOh14GhvjdBcxbEnNdygidgRKNN9CaQMiGVsS_Bt-s8rAA=s64",
      "userId": "10008406607256523389"
     },
     "user_tz": -120
    },
    "id": "zebr-GIS8jnU",
    "outputId": "0ecfe94f-fe72-4493-fa62-0c9605f9121c"
   },
   "outputs": [
    {
     "name": "stdout",
     "output_type": "stream",
     "text": [
      "Found 4626 images belonging to 9 classes.\n",
      "Found 1552 images belonging to 9 classes.\n"
     ]
    }
   ],
   "source": [
    "train_datagen = ImageDataGenerator(rescale = 1./255.)\n",
    "\n",
    "test_datagen = ImageDataGenerator( rescale = 1.0/255.)\n",
    "\n",
    "train_generator = train_datagen.flow_from_directory(train_path,\n",
    "                                                    batch_size = 32,\n",
    "                                                    class_mode  = 'categorical',\n",
    "                                                    target_size = img_shape[:2])   \n",
    "\n",
    "validation_generator =  test_datagen.flow_from_directory( test_path,\n",
    "                                                          batch_size  = 32,\n",
    "                                                          class_mode  = 'categorical',\n",
    "                                                          target_size = img_shape[:2])"
   ]
  },
  {
   "cell_type": "code",
   "execution_count": 17,
   "metadata": {
    "colab": {
     "base_uri": "https://localhost:8080/"
    },
    "id": "hFXWUhF08jnV",
    "outputId": "b228f9ac-fe7d-476c-e29d-15ee2f80f117"
   },
   "outputs": [
    {
     "name": "stdout",
     "output_type": "stream",
     "text": [
      "WARNING:tensorflow:From <ipython-input-17-bde018fed428>:2: Model.fit_generator (from tensorflow.python.keras.engine.training) is deprecated and will be removed in a future version.\n",
      "Instructions for updating:\n",
      "Please use Model.fit, which supports generators.\n",
      "Epoch 1/50\n",
      "46/46 - 201s - loss: 7.5130 - accuracy: 0.3930 - val_loss: 0.7824 - val_accuracy: 0.7958\n",
      "Epoch 2/50\n",
      "46/46 - 196s - loss: 0.5758 - accuracy: 0.8200 - val_loss: 0.4201 - val_accuracy: 0.8896\n",
      "Epoch 3/50\n",
      "46/46 - 199s - loss: 0.3572 - accuracy: 0.9062 - val_loss: 0.3843 - val_accuracy: 0.9000\n",
      "Epoch 4/50\n",
      "46/46 - 203s - loss: 0.2447 - accuracy: 0.9429 - val_loss: 0.3054 - val_accuracy: 0.8875\n",
      "Epoch 5/50\n",
      "46/46 - 202s - loss: 0.1933 - accuracy: 0.9531 - val_loss: 0.3174 - val_accuracy: 0.9021\n",
      "Epoch 6/50\n",
      "46/46 - 199s - loss: 0.2028 - accuracy: 0.9492 - val_loss: 0.2613 - val_accuracy: 0.9187\n",
      "Epoch 7/50\n",
      "46/46 - 202s - loss: 0.1243 - accuracy: 0.9681 - val_loss: 0.2231 - val_accuracy: 0.9125\n",
      "Epoch 8/50\n",
      "46/46 - 204s - loss: 0.1031 - accuracy: 0.9769 - val_loss: 0.2294 - val_accuracy: 0.9062\n",
      "Epoch 9/50\n",
      "46/46 - 196s - loss: 0.0756 - accuracy: 0.9857 - val_loss: 0.2482 - val_accuracy: 0.8917\n",
      "Epoch 10/50\n",
      "46/46 - 200s - loss: 0.0721 - accuracy: 0.9870 - val_loss: 0.2008 - val_accuracy: 0.9396\n",
      "Epoch 11/50\n",
      "46/46 - 198s - loss: 0.0728 - accuracy: 0.9823 - val_loss: 0.2182 - val_accuracy: 0.9271\n",
      "Epoch 12/50\n",
      "46/46 - 200s - loss: 0.0592 - accuracy: 0.9898 - val_loss: 0.2245 - val_accuracy: 0.9167\n",
      "Epoch 13/50\n",
      "46/46 - 201s - loss: 0.0665 - accuracy: 0.9856 - val_loss: 0.1838 - val_accuracy: 0.9271\n",
      "Epoch 14/50\n",
      "\n",
      "Reached 95% accuracy so cancelling training!\n",
      "46/46 - 202s - loss: 0.0449 - accuracy: 0.9925 - val_loss: 0.2132 - val_accuracy: 0.9292\n"
     ]
    }
   ],
   "source": [
    "callbacks = myCallback()\n",
    "history = model.fit_generator(\n",
    "            train_generator,\n",
    "            validation_data = validation_generator,\n",
    "            steps_per_epoch = 1500//32,\n",
    "            epochs = 50,\n",
    "            validation_steps = 500//32,\n",
    "            verbose = 2,\n",
    "            callbacks=[callbacks])\n"
   ]
  },
  {
   "cell_type": "code",
   "execution_count": 18,
   "metadata": {
    "id": "cF5c-QK88jnW"
   },
   "outputs": [
    {
     "data": {
      "image/png": "[encoded data removed]",
      "text/plain": [
       "<Figure size 432x288 with 1 Axes>"
      ]
     },
     "metadata": {
      "needs_background": "light"
     },
     "output_type": "display_data"
    },
    {
     "data": {
      "image/png": "[encoded data removed]",
      "text/plain": [
       "<Figure size 432x288 with 1 Axes>"
      ]
     },
     "metadata": {
      "needs_background": "light"
     },
     "output_type": "display_data"
    }
   ],
   "source": [
    "import matplotlib.pyplot as plt\n",
    "acc = history.history['accuracy']\n",
    "val_acc = history.history['val_accuracy']\n",
    "loss = history.history['loss']\n",
    "val_loss = history.history['val_loss']\n",
    "\n",
    "epochs = range(len(acc))\n",
    "\n",
    "plt.plot(epochs, acc, 'b', label='Training accuracy')\n",
    "plt.plot(epochs, val_acc, 'r', label='Validation accuracy')\n",
    "plt.title('Training and validation accuracy')\n",
    "plt.legend()\n",
    "\n",
    "plt.figure()\n",
    "\n",
    "plt.plot(epochs, loss, 'b', label='Training Loss')\n",
    "plt.plot(epochs, val_loss, 'r', label='Validation Loss')\n",
    "plt.title('Training and validation loss')\n",
    "plt.legend()\n",
    "\n",
    "plt.show()"
   ]
  },
  {
   "cell_type": "code",
   "execution_count": 19,
   "metadata": {
    "id": "v2DPUdwP8jnW"
   },
   "outputs": [],
   "source": [
    "import pickle\n",
    "\n",
    "with open('trainHistoryDict.txt', 'wb') as file_pi:\n",
    "              pickle.dump(model.history.history, file_pi)"
   ]
  },
  {
   "cell_type": "code",
   "execution_count": 21,
   "metadata": {},
   "outputs": [],
   "source": [
    "model.save('99model.h5')"
   ]
  },
  {
   "cell_type": "code",
   "execution_count": 22,
   "metadata": {},
   "outputs": [
    {
     "name": "stdout",
     "output_type": "stream",
     "text": [
      "99model.h5                  LICENSE           trainHistoryDict.txt\r\n",
      "Data_preprocessing.ipynb    README.md\r\n",
      "Fruit360_9_Resnet101.ipynb  requirements.txt\r\n"
     ]
    }
   ],
   "source": []
  },
  {
   "cell_type": "code",
   "execution_count": null,
   "metadata": {},
   "outputs": [],
   "source": []
  }
 ],
 "metadata": {
  "accelerator": "GPU",
  "colab": {
   "collapsed_sections": [],
   "name": "Copie de Fruit360miniResnet101.ipynb",
   "provenance": [
    {
     "file_id": "1mNgCXzWZ04QgoW_PvlC5MxfdOBpvaGTT",
     "timestamp": 1619044479445
    }
   ]
  },
  "kernelspec": {
   "display_name": "Python 3",
   "language": "python",
   "name": "python3"
  },
  "language_info": {
   "codemirror_mode": {
    "name": "ipython",
    "version": 3
   },
   "file_extension": ".py",
   "mimetype": "text/x-python",
   "name": "python",
   "nbconvert_exporter": "python",
   "pygments_lexer": "ipython3",
   "version": "3.8.5"
  }
 },
 "nbformat": 4,
 "nbformat_minor": 1
}
