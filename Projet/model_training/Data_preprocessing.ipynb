{
 "cells": [
  {
   "cell_type": "code",
   "execution_count": 1,
   "id": "rough-lesson",
   "metadata": {},
   "outputs": [],
   "source": [
    "import numpy as np \n",
    "import pandas as pd\n",
    "\n",
    "from tensorflow.keras.models import Sequential\n",
    "from tensorflow.keras.layers import Conv2D, MaxPooling2D, Activation, Dropout, Flatten, Dense\n",
    "from tensorflow.keras.preprocessing.image import ImageDataGenerator, img_to_array, load_img\n",
    "from PIL import Image \n",
    "from glob import glob\n",
    "import pprint\n",
    "\n",
    "\n",
    "\n",
    "import os\n",
    "import warnings\n",
    "warnings.filterwarnings(\"ignore\")\n",
    "import matplotlib.pyplot as plt\n",
    "import tensorflow as tf\n",
    "from tensorflow.keras.optimizers import Adam\n",
    "from tensorflow.keras.preprocessing.image import ImageDataGenerator\n",
    "from tensorflow.keras import layers\n",
    "from tensorflow.keras import Model\n",
    "\n",
    "from tensorflow.keras.applications.resnet import ResNet50\n",
    "from tensorflow.keras.applications.resnet import ResNet101\n",
    "from tensorflow.keras.applications.inception_v3 import InceptionV3\n",
    "from tensorflow.keras.callbacks import Callback\n",
    "from tensorflow.keras.optimizers import Adam"
   ]
  },
  {
   "cell_type": "code",
   "execution_count": 2,
   "id": "another-greensboro",
   "metadata": {},
   "outputs": [],
   "source": [
    "train_path = '/Users/elodiepointeau/Desktop/Fruit360/fruits-360//Training/'\n",
    "test_path = '/Users/elodiepointeau/Desktop/Fruit360/fruits-360//Test/'\n",
    "\n",
    "#train_path = './data/fruits-360/Training/'\n",
    "#test_path = './data/fruits-360/Test/'"
   ]
  },
  {
   "cell_type": "code",
   "execution_count": 3,
   "id": "quality-guidance",
   "metadata": {},
   "outputs": [],
   "source": [
    "# Récupérer les labes (nom des subfolders), y compris le dossier actuel .\n",
    "subs_train_label = [x[0].split('/')[-1] for x in os.walk(train_path)]\n",
    "subs_test_label = [x[0].split('/')[-1] for x in os.walk(test_path)]"
   ]
  },
  {
   "cell_type": "code",
   "execution_count": 5,
   "id": "pharmaceutical-sodium",
   "metadata": {},
   "outputs": [
    {
     "data": {
      "text/plain": [
       "list"
      ]
     },
     "execution_count": 5,
     "metadata": {},
     "output_type": "execute_result"
    }
   ],
   "source": [
    "type(subs_train_label)"
   ]
  },
  {
   "cell_type": "code",
   "execution_count": 4,
   "id": "square-syntax",
   "metadata": {},
   "outputs": [
    {
     "name": "stdout",
     "output_type": "stream",
     "text": [
      "131\n",
      "131\n",
      "True\n"
     ]
    }
   ],
   "source": [
    "# Transformer tt les labes dans une liste ,  filter None supprime l'élémement vide.\n",
    "subs_train_labels = list(filter(None, subs_train_label))\n",
    "subs_test_labels = list(filter(None, subs_test_label))\n",
    "#\n",
    "print(len(subs_train_labels))\n",
    "print(len(subs_test_labels))\n",
    "#print(len(subs_train_paths))\n",
    "#print(len(subs_test_paths))\n",
    "\n",
    "print(set(subs_train_label) == set(subs_test_label))"
   ]
  },
  {
   "cell_type": "code",
   "execution_count": 7,
   "id": "passing-arrest",
   "metadata": {},
   "outputs": [
    {
     "data": {
      "text/plain": [
       "'Apple Braeburn'"
      ]
     },
     "execution_count": 7,
     "metadata": {},
     "output_type": "execute_result"
    }
   ],
   "source": [
    "labels = sorted(subs_train_labels)\n",
    "labels[0]"
   ]
  },
  {
   "cell_type": "code",
   "execution_count": null,
   "id": "brief-enforcement",
   "metadata": {},
   "outputs": [],
   "source": []
  }
 ],
 "metadata": {
  "kernelspec": {
   "display_name": "Python 3",
   "language": "python",
   "name": "python3"
  },
  "language_info": {
   "codemirror_mode": {
    "name": "ipython",
    "version": 3
   },
   "file_extension": ".py",
   "mimetype": "text/x-python",
   "name": "python",
   "nbconvert_exporter": "python",
   "pygments_lexer": "ipython3",
   "version": "3.8.8"
  }
 },
 "nbformat": 4,
 "nbformat_minor": 5
}
